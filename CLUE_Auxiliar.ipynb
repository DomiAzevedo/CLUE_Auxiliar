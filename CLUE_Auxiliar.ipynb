{
  "cells": [
    {
      "cell_type": "markdown",
      "source": [
        "# Exemplo de Jogo Real\n",
        "\n",
        "Este foi o código que utilizei para demonstrar em um jogo real como ele pode ser aplicado, auxiiando o jogador para descobrir a resposta mais rapidamente e fazer palpites mais sensatos (o código não foi utilizado durante o jogo real).\n",
        "\n",
        "_OBS1: A ordem é jogador1, jogador2, jogador3, eassim por diante, porém muitas vezes os jogadores não estavam e sua vez era pulada._\n",
        "\n",
        "_OBS2: Este jogo tinha sido preparado para 7 jogadores, porém faltou um jogador, então suas cartas foram reveladas a todos {cartas_fora}._"
      ],
      "metadata": {
        "id": "OxZGfNn01nTR"
      },
      "id": "OxZGfNn01nTR"
    },
    {
      "cell_type": "code",
      "execution_count": 29,
      "id": "56935608",
      "metadata": {
        "id": "56935608"
      },
      "outputs": [],
      "source": [
        "class Clue():\n",
        "    def __init__(self, lista_geral,\n",
        "                 jogadores, dicionario,\n",
        "                 possibilidades, certezas,\n",
        "                 eu, cartas_fora, tipos):\n",
        "\n",
        "        self.general = lista_geral\n",
        "        self.players = jogadores\n",
        "        self.dict = dicionario\n",
        "        self.possibilities = possibilidades\n",
        "        self.correct = certezas\n",
        "        self.me = eu\n",
        "        self.myidx = jogadores.index(eu)\n",
        "        self.out_of_game = cartas_fora\n",
        "        self.types = tipos\n",
        "        self.results = [None, None, None]\n",
        "\n",
        "    def palpite(self, jogador, pessoa, lugar, arma):\n",
        "        cartas = [pessoa, lugar, arma]\n",
        "        i = self.players.index(jogador)\n",
        "        cartas_originais = []\n",
        "\n",
        "        # Remove as cartas que já não estão no dicionário\n",
        "        for c in cartas:\n",
        "            if c not in self.dict.keys():\n",
        "                cartas.remove(c)\n",
        "            cartas_originais.append(c)\n",
        "\n",
        "        # i = jogador que deu o palpite\n",
        "        # j = jogador a responder o palpite\n",
        "        if i == len(self.players)-1:\n",
        "            j = 0\n",
        "        else:\n",
        "            j = i+1\n",
        "\n",
        "        # Pergunta para todos os outros jogadores, em ordem, se eles possuem\n",
        "        # alguma das cartas no palpite\n",
        "        y = ''\n",
        "        while j != i or y != 's':\n",
        "            if j == i:\n",
        "                break\n",
        "\n",
        "            if j == len(self.players):\n",
        "                j = 0\n",
        "\n",
        "            y = input(f'Jogador(a) {self.players[j]} tem alguma dessas cartas(s/n)? ')\n",
        "\n",
        "            if y == 'n':\n",
        "                # Se a resposta for 'não', remove o jogador perguntado da lista\n",
        "                # de possibilidades de cada carta no palpite\n",
        "                if self.players[j] != self.me:\n",
        "                    for chave, valores in self.dict.items():\n",
        "                        if chave in [pessoa, arma, lugar] and self.players[j] in valores:\n",
        "                            l = valores.copy()\n",
        "                            l.remove(self.players[j])\n",
        "                            self.dict[chave] = l\n",
        "            # Caso a resposta seja 'sim'\n",
        "            elif y == 's':\n",
        "                # Se o jogador perguntado for eu, passa\n",
        "                if self.players[j] == self.me:\n",
        "                    pass\n",
        "\n",
        "                if self.players[i] != self.me:\n",
        "                  boolean = 0\n",
        "                  # Se alguma das cartas estiver na lista de certezas do\n",
        "                  # jogador perguntado, para\n",
        "                  for x in cartas_originais:\n",
        "                      if x in self.correct[j]:\n",
        "                          boolean = 1\n",
        "                          break\n",
        "                      # Se não, remove da lista de possibilidades\n",
        "                      # as cartas que já temos certeza\n",
        "                      if x in cartas:\n",
        "                          if x in self.possibilities[self.myidx]:\n",
        "                              cartas.remove(x)\n",
        "                          if x in self.out_of_game:\n",
        "                              cartas.remove(x)\n",
        "\n",
        "                  # Adiciona as possibilidades à lista de possibilidades\n",
        "                  if boolean != 1:\n",
        "                      self.possibilities[j].append(cartas)\n",
        "                  break\n",
        "                else:\n",
        "                  self.perguntaCarta(j)\n",
        "                  break\n",
        "\n",
        "            j += 1\n",
        "\n",
        "        # Caso não haja nenhuma possibilidade para determinada carta\n",
        "        # no dicionario, adiciona essa carta na lista de resultados\n",
        "        # de acordo com o seu tipo\n",
        "        chaves_a_remover = [chave for chave, valores in self.dict.items() if valores == []]\n",
        "\n",
        "        for chave in chaves_a_remover:\n",
        "            for l1 in self.possibilities:\n",
        "                for l2 in l1:\n",
        "                    if chave in l2:\n",
        "                        l2.remove(chave)\n",
        "                        for e in range(len(self.types)):\n",
        "                            if chave in self.types[e]:\n",
        "                                self.results[e] = chave\n",
        "\n",
        "                    # Se houver uma lista com um elemento nas listas de possibilidades\n",
        "                    # de um jogador, adiciona esse elemento na lista de certezas,\n",
        "                    # caso já não esteja\n",
        "                    if len(l2) == 1:\n",
        "                        p = self.possibilities.index(l1)\n",
        "                        if l2[0] not in self.correct[p]:\n",
        "                            self.correct[p].append(l2[0])\n",
        "                        l1.remove(l2)\n",
        "\n",
        "        self.descobreCertezas()\n",
        "\n",
        "        # Remove a lista de possibilidades de um jogador que contém um item correto\n",
        "        # deste mesmo jogador\n",
        "        for i in range(len(self.possibilities)):\n",
        "            for p in self.possibilities[i]:\n",
        "                for x in p:\n",
        "                    if x in self.correct[i]:\n",
        "                        self.possibilities[i].remove(p)\n",
        "\n",
        "        # Eliminando a chave que já é uma certeza do dicionário\n",
        "        keys_to_remove = []\n",
        "\n",
        "        for chave in self.dict.keys():\n",
        "          for i in range(len(self.correct)):\n",
        "            if chave in self.correct[i]:\n",
        "              keys_to_remove.append(chave)\n",
        "\n",
        "        for chave in keys_to_remove:\n",
        "            self.dict.pop(chave)\n",
        "\n",
        "\n",
        "\n",
        "    # Percorre a lista de certezas e, caso haja uma certeza em alguma\n",
        "    # lista de possibilidades, exclui a certeza\n",
        "    def descobreCertezas(self):\n",
        "        def remove_and_append(certeza, possibilidade):\n",
        "            if len(possibilidade) == 1 and possibilidade[0] not in certeza:\n",
        "                certeza.append(possibilidade[0])\n",
        "                return True\n",
        "            return False\n",
        "\n",
        "        for i in range(len(self.correct)):\n",
        "            if i != self.myidx:\n",
        "                for possibilidade in self.possibilities[i][:]:\n",
        "                    # Dentre as listas de possibilidades, há uma lista de tamanho 1,\n",
        "                    # logo, é uma certeza\n",
        "                    if remove_and_append(certeza=self.correct[i], possibilidade=possibilidade):\n",
        "                        self.possibilities[i].remove(possibilidade)\n",
        "                    else:\n",
        "                        # Caso contrário, se um item da lista de possibilidades de um\n",
        "                        # jogador estiver na lista de cetezas de outro jogador, remove\n",
        "                        # este item das possibilidades\n",
        "                        for j in range(len(self.correct)):\n",
        "                            if j != i:\n",
        "                                for certeza in self.correct[j][:]:\n",
        "                                    if certeza in possibilidade:\n",
        "                                        possibilidade.remove(certeza)\n",
        "                                        if len(possibilidade) == 1:\n",
        "                                            if possibilidade[0] not in certeza:\n",
        "                                                self.correct[i].append(possibilidade[0])\n",
        "                                            self.possibilities[i].remove(possibilidade)\n",
        "\n",
        "    # Printa as respostas concretas descobertas (None para cada resultado que não há)\n",
        "    def printResultados(self):\n",
        "        print(f'Quem: {self.results[0]}')\n",
        "        print(f'Onde: {self.results[1]}')\n",
        "        print(f'Como: {self.results[2]}')\n",
        "\n",
        "    # Pergunta a carta do jogador que disse 'sim', caso eu seja o jogador que\n",
        "    # deu o palpite\n",
        "    def perguntaCarta(self, j):\n",
        "        c = input('Qual carta? ')\n",
        "        for k in self.possibilities[j]:\n",
        "            if c in k:\n",
        "                self.possibilities[j].remove(k)\n",
        "\n",
        "        for l1 in self.possibilities:\n",
        "            for l2 in l1:\n",
        "                if c in l2:\n",
        "                    l2.remove(c)\n",
        "        self.dict.pop(c)\n",
        "        self.correct[j].append(c)\n",
        "\n",
        "    # Printa as cartas descobertas de cada jogador\n",
        "    def printCertezas(self):\n",
        "        for i in range(len(self.correct)):\n",
        "            print(f'Lista de certezas de {self.players[i]}: {self.correct[i]}\\n')\n",
        "\n",
        "    # Printa as possibilidades de cada jogador baseado nos 'sim' ditos\n",
        "    def printPossibilidades(self):\n",
        "        for i in range(len(self.possibilities)):\n",
        "            if i != self.myidx:\n",
        "                print(f'Lista de possibilidades de {self.players[i]}: {self.possibilities[i]}\\n')\n",
        "\n",
        "    # Printa as possibilidades de todas as cartas que não foram verificadas\n",
        "    def printPossibCartasGeral(self):\n",
        "        print('Lista de possiveis jogadores que tenham as cartas:\\n')\n",
        "        for x, y in self.dict.items():\n",
        "            print(f'{x} - {self.dict[x]}')\n",
        "\n",
        "    # Printa as possibilidades das cartas faltantes (o tipo que não está nos resultados)\n",
        "    def printPossibCartasFaltantes(self):\n",
        "        print('Lista de possiveis jogadores que tenham as cartas:\\n')\n",
        "        for i in range(len(self.results)):\n",
        "            if self.results[i] is None:\n",
        "                for x in self.types[i]:\n",
        "                    if x in self.dict:\n",
        "                        print(f'{x} - {self.dict[x]}')"
      ]
    },
    {
      "cell_type": "code",
      "execution_count": 30,
      "id": "cfb6a8ec",
      "metadata": {
        "scrolled": false,
        "colab": {
          "base_uri": "https://localhost:8080/"
        },
        "id": "cfb6a8ec",
        "outputId": "58dd1188-b5bd-4ed0-8517-efb4665e0d4c"
      },
      "outputs": [
        {
          "output_type": "stream",
          "name": "stdout",
          "text": [
            "['senhorita cherry', 'coronel banana', 'professor margarida', 'reverendo sapo', 'cientista maluco', 'cozinheiro laranja', 'salao de trofeus', 'salao de jantar', 'biblioteca', 'sala de estar', 'jardim interno', 'sala de musica', 'salao de festas', 'corda', 'cano', 'revolver', 'chave inglesa', 'veneno']\n"
          ]
        }
      ],
      "source": [
        "# JOGO CLUE\n",
        "\n",
        "jogadores = ['fora de jogo', 'jogador1', 'jogador2', 'jogador3', 'jogador4', 'jogador5', 'jogador6']\n",
        "\n",
        "cartas_fora = ['mordomo alfred', 'sala de jogos', 'candelabro']\n",
        "\n",
        "lista_geral = [['senhorita cherry', 'coronel banana', 'professor margarida', 'reverendo sapo',\n",
        "                'cientista maluco', 'cozinheiro laranja', 'mordomo alfred'],\n",
        "               ['escritorio', 'salao de trofeus', 'salao de jantar', 'biblioteca', 'sala de jogos',\n",
        "                'sala de estar', 'jardim interno', 'cozinha', 'sala de musica', 'salao de festas'],\n",
        "               ['candelabro', 'corda', 'cano', 'revolver', 'chave inglesa', 'veneno', 'faca']]\n",
        "\n",
        "jogadores.remove('fora de jogo')\n",
        "\n",
        "lista_geral[0].remove('mordomo alfred')\n",
        "lista_geral[1].remove('sala de jogos')\n",
        "lista_geral[2].remove('candelabro')\n",
        "\n",
        "# Sou o jogador2\n",
        "lista = []\n",
        "lista.extend(lista_geral[0])\n",
        "lista.extend(lista_geral[1])\n",
        "lista.extend(lista_geral[2])\n",
        "\n",
        "eu = 'jogador2'\n",
        "\n",
        "j2_list = ['escritorio', 'cozinha', 'faca']\n",
        "\n",
        "for x in j2_list:\n",
        "    lista.remove(x)\n",
        "\n",
        "dicionario = {}\n",
        "\n",
        "j_possiveis = jogadores.copy()\n",
        "j_possiveis.remove('jogador2')\n",
        "\n",
        "for chave in lista:\n",
        "    dicionario[chave] = j_possiveis\n",
        "\n",
        "# listas de possibilidades\n",
        "j1_list = []\n",
        "# j2__list = ['escritorio', 'cozinha', 'faca']\n",
        "j3_list = []\n",
        "j4_list = []\n",
        "j5_list = []\n",
        "j6_list = []\n",
        "\n",
        "possibilidades = [j1_list, j2_list, j3_list, j4_list, j5_list, j6_list]\n",
        "\n",
        "# listas de certezas\n",
        "j1_l = []\n",
        "# j2_l = ['escritorio', 'cozinha', 'faca']\n",
        "j3_l = []\n",
        "j4_l = []\n",
        "j5_l = []\n",
        "j6_l = []\n",
        "\n",
        "certezas = [j1_l, j2_list, j3_l, j4_l, j5_l, j6_l]\n",
        "\n",
        "# Todos os outros jogaores tem a possibilidade de ter essas cartas\n",
        "print(lista)"
      ]
    },
    {
      "cell_type": "markdown",
      "id": "856e8fed",
      "metadata": {
        "id": "856e8fed"
      },
      "source": [
        "## Rodada 1"
      ]
    },
    {
      "cell_type": "code",
      "execution_count": 31,
      "id": "279a2497",
      "metadata": {
        "id": "279a2497"
      },
      "outputs": [],
      "source": [
        "clue = Clue(lista, jogadores, dicionario, possibilidades, certezas, eu, cartas_fora, lista_geral)"
      ]
    },
    {
      "cell_type": "code",
      "execution_count": 32,
      "id": "2d6df873",
      "metadata": {
        "colab": {
          "base_uri": "https://localhost:8080/"
        },
        "id": "2d6df873",
        "outputId": "98713ab5-1066-45af-f26c-d5f35377f8c6"
      },
      "outputs": [
        {
          "name": "stdout",
          "output_type": "stream",
          "text": [
            "Jogador(a) jogador4 tem alguma dessas cartas(s/n)? s\n"
          ]
        }
      ],
      "source": [
        "clue.palpite('jogador3', 'cientista maluco', 'sala de estar', 'chave inglesa')"
      ]
    },
    {
      "cell_type": "code",
      "execution_count": 33,
      "id": "53a6bc25",
      "metadata": {
        "colab": {
          "base_uri": "https://localhost:8080/"
        },
        "id": "53a6bc25",
        "outputId": "b0108ad9-2e77-41cb-ee6a-3e30cf545e32"
      },
      "outputs": [
        {
          "name": "stdout",
          "output_type": "stream",
          "text": [
            "Jogador(a) jogador1 tem alguma dessas cartas(s/n)? s\n"
          ]
        }
      ],
      "source": [
        "clue.palpite('jogador6', 'cozinha', 'revolver', 'cozinheiro laranja')"
      ]
    },
    {
      "cell_type": "code",
      "execution_count": 34,
      "id": "76cadd64",
      "metadata": {
        "colab": {
          "base_uri": "https://localhost:8080/"
        },
        "id": "76cadd64",
        "outputId": "44a289f9-113e-4d92-c8ed-a16be57b6329"
      },
      "outputs": [
        {
          "name": "stdout",
          "output_type": "stream",
          "text": [
            "Jogador(a) jogador5 tem alguma dessas cartas(s/n)? s\n"
          ]
        }
      ],
      "source": [
        "clue.palpite('jogador4', 'coronel banana', 'chave inglesa', 'sala de estar')"
      ]
    },
    {
      "cell_type": "code",
      "execution_count": 35,
      "id": "b3483ae8",
      "metadata": {
        "scrolled": true,
        "colab": {
          "base_uri": "https://localhost:8080/"
        },
        "id": "b3483ae8",
        "outputId": "b1fa7371-a11a-48bd-c81d-94fe8f75858b"
      },
      "outputs": [
        {
          "output_type": "stream",
          "name": "stdout",
          "text": [
            "Lista de possibilidades de jogador1: [['revolver', 'cozinheiro laranja']]\n",
            "\n",
            "Lista de possibilidades de jogador3: []\n",
            "\n",
            "Lista de possibilidades de jogador4: [['cientista maluco', 'sala de estar', 'chave inglesa']]\n",
            "\n",
            "Lista de possibilidades de jogador5: [['coronel banana', 'chave inglesa', 'sala de estar']]\n",
            "\n",
            "Lista de possibilidades de jogador6: []\n",
            "\n"
          ]
        }
      ],
      "source": [
        "clue.printPossibilidades()"
      ]
    },
    {
      "cell_type": "markdown",
      "id": "17cd96db",
      "metadata": {
        "id": "17cd96db"
      },
      "source": [
        "## Rodada 2"
      ]
    },
    {
      "cell_type": "code",
      "execution_count": 36,
      "id": "0be016ba",
      "metadata": {
        "colab": {
          "base_uri": "https://localhost:8080/"
        },
        "id": "0be016ba",
        "outputId": "ffe4f7bf-a0c7-4136-970b-7f52ebf212e2"
      },
      "outputs": [
        {
          "name": "stdout",
          "output_type": "stream",
          "text": [
            "Jogador(a) jogador2 tem alguma dessas cartas(s/n)? n\n",
            "Jogador(a) jogador3 tem alguma dessas cartas(s/n)? n\n",
            "Jogador(a) jogador4 tem alguma dessas cartas(s/n)? n\n",
            "Jogador(a) jogador5 tem alguma dessas cartas(s/n)? s\n"
          ]
        }
      ],
      "source": [
        "clue.palpite('jogador1', 'reverendo sapo', 'salao de festas', 'veneno')"
      ]
    },
    {
      "cell_type": "code",
      "execution_count": 37,
      "id": "4670037b",
      "metadata": {
        "colab": {
          "base_uri": "https://localhost:8080/"
        },
        "id": "4670037b",
        "outputId": "4ae6c604-d3a8-41ca-ea84-a334c635d0d5"
      },
      "outputs": [
        {
          "name": "stdout",
          "output_type": "stream",
          "text": [
            "Jogador(a) jogador3 tem alguma dessas cartas(s/n)? n\n",
            "Jogador(a) jogador4 tem alguma dessas cartas(s/n)? n\n",
            "Jogador(a) jogador5 tem alguma dessas cartas(s/n)? s\n",
            "Qual carta? chave inglesa\n"
          ]
        }
      ],
      "source": [
        "clue.palpite('jogador2', 'salao de jantar', 'chave inglesa', 'mordomo alfred')"
      ]
    },
    {
      "cell_type": "code",
      "execution_count": 38,
      "id": "4e4dc02c",
      "metadata": {
        "colab": {
          "base_uri": "https://localhost:8080/"
        },
        "id": "4e4dc02c",
        "outputId": "bc7dacda-0778-45de-da4b-ae1e1ddad42e"
      },
      "outputs": [
        {
          "name": "stdout",
          "output_type": "stream",
          "text": [
            "Jogador(a) jogador4 tem alguma dessas cartas(s/n)? n\n",
            "Jogador(a) jogador5 tem alguma dessas cartas(s/n)? s\n"
          ]
        }
      ],
      "source": [
        "clue.palpite('jogador3', 'cozinheiro laranja', 'salao de festas', 'veneno')"
      ]
    },
    {
      "cell_type": "code",
      "execution_count": 39,
      "id": "91356840",
      "metadata": {
        "colab": {
          "base_uri": "https://localhost:8080/"
        },
        "id": "91356840",
        "outputId": "b6975335-39ee-4bbd-a559-5ac83c2f6139"
      },
      "outputs": [
        {
          "name": "stdout",
          "output_type": "stream",
          "text": [
            "Jogador(a) jogador5 tem alguma dessas cartas(s/n)? s\n"
          ]
        }
      ],
      "source": [
        "clue.palpite('jogador4', 'professor margarida', 'revolver', 'salao de festas')"
      ]
    },
    {
      "cell_type": "code",
      "execution_count": 40,
      "id": "e951eb17",
      "metadata": {
        "colab": {
          "base_uri": "https://localhost:8080/"
        },
        "id": "e951eb17",
        "outputId": "aa48c43d-e117-4748-e1b8-d420e1383329"
      },
      "outputs": [
        {
          "name": "stdout",
          "output_type": "stream",
          "text": [
            "Jogador(a) jogador1 tem alguma dessas cartas(s/n)? n\n",
            "Jogador(a) jogador2 tem alguma dessas cartas(s/n)? n\n",
            "Jogador(a) jogador3 tem alguma dessas cartas(s/n)? n\n",
            "Jogador(a) jogador4 tem alguma dessas cartas(s/n)? n\n",
            "Jogador(a) jogador5 tem alguma dessas cartas(s/n)? s\n"
          ]
        }
      ],
      "source": [
        "clue.palpite('jogador6', 'salao de jantar', 'reverendo sapo', 'chave inglesa')"
      ]
    },
    {
      "cell_type": "code",
      "execution_count": 41,
      "id": "3686e793",
      "metadata": {
        "colab": {
          "base_uri": "https://localhost:8080/"
        },
        "id": "3686e793",
        "outputId": "e1c4944c-3af5-41b8-a1c3-836d0b008744"
      },
      "outputs": [
        {
          "output_type": "stream",
          "name": "stdout",
          "text": [
            "Lista de possibilidades de jogador1: [['revolver', 'cozinheiro laranja']]\n",
            "\n",
            "Lista de possibilidades de jogador3: []\n",
            "\n",
            "Lista de possibilidades de jogador4: [['cientista maluco', 'sala de estar']]\n",
            "\n",
            "Lista de possibilidades de jogador5: [['reverendo sapo', 'salao de festas', 'veneno'], ['cozinheiro laranja', 'salao de festas', 'veneno'], ['professor margarida', 'revolver', 'salao de festas']]\n",
            "\n",
            "Lista de possibilidades de jogador6: []\n",
            "\n"
          ]
        }
      ],
      "source": [
        "clue.printPossibilidades()"
      ]
    },
    {
      "cell_type": "code",
      "execution_count": 42,
      "id": "0667bcfd",
      "metadata": {
        "colab": {
          "base_uri": "https://localhost:8080/"
        },
        "id": "0667bcfd",
        "outputId": "4fab886b-9d9a-4531-f2e9-d1542562887d"
      },
      "outputs": [
        {
          "output_type": "stream",
          "name": "stdout",
          "text": [
            "Lista de certezas de jogador1: []\n",
            "\n",
            "Lista de certezas de jogador2: ['escritorio', 'cozinha', 'faca']\n",
            "\n",
            "Lista de certezas de jogador3: []\n",
            "\n",
            "Lista de certezas de jogador4: []\n",
            "\n",
            "Lista de certezas de jogador5: ['chave inglesa']\n",
            "\n",
            "Lista de certezas de jogador6: []\n",
            "\n"
          ]
        }
      ],
      "source": [
        "clue.printCertezas()"
      ]
    },
    {
      "cell_type": "markdown",
      "id": "17a21014",
      "metadata": {
        "id": "17a21014"
      },
      "source": [
        "## Rodada 3"
      ]
    },
    {
      "cell_type": "code",
      "execution_count": 43,
      "id": "7352ba93",
      "metadata": {
        "scrolled": true,
        "colab": {
          "base_uri": "https://localhost:8080/"
        },
        "id": "7352ba93",
        "outputId": "b38f67be-9031-45f9-e12f-4d5ccc4226d0"
      },
      "outputs": [
        {
          "name": "stdout",
          "output_type": "stream",
          "text": [
            "Jogador(a) jogador2 tem alguma dessas cartas(s/n)? n\n",
            "Jogador(a) jogador3 tem alguma dessas cartas(s/n)? n\n",
            "Jogador(a) jogador4 tem alguma dessas cartas(s/n)? s\n"
          ]
        }
      ],
      "source": [
        "clue.palpite('jogador1', 'cientista maluco', 'jardim interno', 'revolver')"
      ]
    },
    {
      "cell_type": "code",
      "execution_count": 44,
      "id": "7281b157",
      "metadata": {
        "colab": {
          "base_uri": "https://localhost:8080/"
        },
        "id": "7281b157",
        "outputId": "cc224a45-234a-4118-f553-6759e2cede4e"
      },
      "outputs": [
        {
          "name": "stdout",
          "output_type": "stream",
          "text": [
            "Jogador(a) jogador3 tem alguma dessas cartas(s/n)? n\n",
            "Jogador(a) jogador4 tem alguma dessas cartas(s/n)? n\n",
            "Jogador(a) jogador5 tem alguma dessas cartas(s/n)? n\n",
            "Jogador(a) jogador6 tem alguma dessas cartas(s/n)? s\n",
            "Qual carta? veneno\n"
          ]
        }
      ],
      "source": [
        "clue.palpite('jogador2', 'sala de musica', 'mordomo alfred', 'veneno')"
      ]
    },
    {
      "cell_type": "code",
      "execution_count": 45,
      "id": "91cacbc9",
      "metadata": {
        "colab": {
          "base_uri": "https://localhost:8080/"
        },
        "id": "91cacbc9",
        "outputId": "98478b48-957d-44ac-cc1c-06fbbb76b8a4"
      },
      "outputs": [
        {
          "name": "stdout",
          "output_type": "stream",
          "text": [
            "Jogador(a) jogador4 tem alguma dessas cartas(s/n)? n\n",
            "Jogador(a) jogador5 tem alguma dessas cartas(s/n)? n\n",
            "Jogador(a) jogador6 tem alguma dessas cartas(s/n)? s\n"
          ]
        }
      ],
      "source": [
        "clue.palpite('jogador3', 'senhorita cherry', 'salao de jantar', 'veneno')"
      ]
    },
    {
      "cell_type": "code",
      "execution_count": 46,
      "id": "4f35153a",
      "metadata": {
        "colab": {
          "base_uri": "https://localhost:8080/"
        },
        "id": "4f35153a",
        "outputId": "ee27e242-0cbd-4071-9999-8dacd89a8c18"
      },
      "outputs": [
        {
          "name": "stdout",
          "output_type": "stream",
          "text": [
            "Jogador(a) jogador5 tem alguma dessas cartas(s/n)? n\n",
            "Jogador(a) jogador6 tem alguma dessas cartas(s/n)? n\n",
            "Jogador(a) jogador1 tem alguma dessas cartas(s/n)? s\n"
          ]
        }
      ],
      "source": [
        "clue.palpite('jogador4', 'reverendo sapo', 'faca', 'jardim interno')"
      ]
    },
    {
      "cell_type": "code",
      "execution_count": 47,
      "id": "1692bd3b",
      "metadata": {
        "colab": {
          "base_uri": "https://localhost:8080/"
        },
        "id": "1692bd3b",
        "outputId": "e18069c0-8531-4e93-ba88-816bef722df7"
      },
      "outputs": [
        {
          "name": "stdout",
          "output_type": "stream",
          "text": [
            "Jogador(a) jogador1 tem alguma dessas cartas(s/n)? s\n"
          ]
        }
      ],
      "source": [
        "clue.palpite('jogador6', 'sala de musica', 'reverendo sapo', 'chave inglesa')"
      ]
    },
    {
      "cell_type": "code",
      "execution_count": 48,
      "id": "a2f9f90c",
      "metadata": {
        "colab": {
          "base_uri": "https://localhost:8080/"
        },
        "id": "a2f9f90c",
        "outputId": "7544c51b-2bba-49a6-d3d0-47cdcc6e2123"
      },
      "outputs": [
        {
          "output_type": "stream",
          "name": "stdout",
          "text": [
            "Lista de possibilidades de jogador1: [['revolver', 'cozinheiro laranja']]\n",
            "\n",
            "Lista de possibilidades de jogador3: []\n",
            "\n",
            "Lista de possibilidades de jogador4: [['cientista maluco', 'sala de estar'], ['cientista maluco', 'revolver']]\n",
            "\n",
            "Lista de possibilidades de jogador5: []\n",
            "\n",
            "Lista de possibilidades de jogador6: []\n",
            "\n"
          ]
        }
      ],
      "source": [
        "clue.printPossibilidades()"
      ]
    },
    {
      "cell_type": "code",
      "execution_count": 49,
      "id": "0bb18028",
      "metadata": {
        "colab": {
          "base_uri": "https://localhost:8080/"
        },
        "id": "0bb18028",
        "outputId": "4b38c5ee-8b14-4aa4-fc86-316ad16ac3f6"
      },
      "outputs": [
        {
          "output_type": "stream",
          "name": "stdout",
          "text": [
            "Lista de certezas de jogador1: ['jardim interno', 'sala de musica']\n",
            "\n",
            "Lista de certezas de jogador2: ['escritorio', 'cozinha', 'faca']\n",
            "\n",
            "Lista de certezas de jogador3: []\n",
            "\n",
            "Lista de certezas de jogador4: []\n",
            "\n",
            "Lista de certezas de jogador5: ['chave inglesa', 'salao de festas']\n",
            "\n",
            "Lista de certezas de jogador6: ['veneno']\n",
            "\n"
          ]
        }
      ],
      "source": [
        "clue.printCertezas()"
      ]
    },
    {
      "cell_type": "code",
      "execution_count": 50,
      "id": "c2189d8e",
      "metadata": {
        "colab": {
          "base_uri": "https://localhost:8080/"
        },
        "id": "c2189d8e",
        "outputId": "9e159e3d-b33d-454c-f02a-42e91f02245f"
      },
      "outputs": [
        {
          "output_type": "stream",
          "name": "stdout",
          "text": [
            "Quem: reverendo sapo\n",
            "Onde: None\n",
            "Como: None\n"
          ]
        }
      ],
      "source": [
        "clue.printResultados()"
      ]
    },
    {
      "cell_type": "code",
      "execution_count": 51,
      "id": "2291bed6",
      "metadata": {
        "colab": {
          "base_uri": "https://localhost:8080/"
        },
        "id": "2291bed6",
        "outputId": "7faa0a20-a53d-47f2-db3e-76d6d2ea3872"
      },
      "outputs": [
        {
          "output_type": "stream",
          "name": "stdout",
          "text": [
            "Lista de possiveis jogadores que tenham as cartas:\n",
            "\n",
            "senhorita cherry - ['jogador1', 'jogador3', 'jogador6']\n",
            "coronel banana - ['jogador1', 'jogador3', 'jogador4', 'jogador5', 'jogador6']\n",
            "professor margarida - ['jogador1', 'jogador3', 'jogador4', 'jogador5', 'jogador6']\n",
            "reverendo sapo - []\n",
            "cientista maluco - ['jogador1', 'jogador4', 'jogador5', 'jogador6']\n",
            "cozinheiro laranja - ['jogador1', 'jogador3', 'jogador5', 'jogador6']\n",
            "salao de trofeus - ['jogador1', 'jogador3', 'jogador4', 'jogador5', 'jogador6']\n",
            "salao de jantar - ['jogador6']\n",
            "biblioteca - ['jogador1', 'jogador3', 'jogador4', 'jogador5', 'jogador6']\n",
            "sala de estar - ['jogador1', 'jogador3', 'jogador4', 'jogador5', 'jogador6']\n",
            "corda - ['jogador1', 'jogador3', 'jogador4', 'jogador5', 'jogador6']\n",
            "cano - ['jogador1', 'jogador3', 'jogador4', 'jogador5', 'jogador6']\n",
            "revolver - ['jogador1', 'jogador4', 'jogador5', 'jogador6']\n"
          ]
        }
      ],
      "source": [
        "clue.printPossibCartasGeral()"
      ]
    },
    {
      "cell_type": "code",
      "source": [
        "clue.printPossibCartasFaltantes()"
      ],
      "metadata": {
        "colab": {
          "base_uri": "https://localhost:8080/"
        },
        "id": "eT2tgES1iEZJ",
        "outputId": "db276758-5f83-4a32-f260-efc68b2ecbe5"
      },
      "id": "eT2tgES1iEZJ",
      "execution_count": 52,
      "outputs": [
        {
          "output_type": "stream",
          "name": "stdout",
          "text": [
            "Lista de possiveis jogadores que tenham as cartas:\n",
            "\n",
            "salao de trofeus - ['jogador1', 'jogador3', 'jogador4', 'jogador5', 'jogador6']\n",
            "salao de jantar - ['jogador6']\n",
            "biblioteca - ['jogador1', 'jogador3', 'jogador4', 'jogador5', 'jogador6']\n",
            "sala de estar - ['jogador1', 'jogador3', 'jogador4', 'jogador5', 'jogador6']\n",
            "corda - ['jogador1', 'jogador3', 'jogador4', 'jogador5', 'jogador6']\n",
            "cano - ['jogador1', 'jogador3', 'jogador4', 'jogador5', 'jogador6']\n",
            "revolver - ['jogador1', 'jogador4', 'jogador5', 'jogador6']\n"
          ]
        }
      ]
    },
    {
      "cell_type": "markdown",
      "id": "8f3ebd73",
      "metadata": {
        "id": "8f3ebd73"
      },
      "source": [
        "## Rodada 4"
      ]
    },
    {
      "cell_type": "code",
      "execution_count": 53,
      "id": "1fc08cca",
      "metadata": {
        "colab": {
          "base_uri": "https://localhost:8080/"
        },
        "id": "1fc08cca",
        "outputId": "37bcc60f-d6a3-439c-d950-3f572951eb76"
      },
      "outputs": [
        {
          "name": "stdout",
          "output_type": "stream",
          "text": [
            "Jogador(a) jogador2 tem alguma dessas cartas(s/n)? n\n",
            "Jogador(a) jogador3 tem alguma dessas cartas(s/n)? s\n"
          ]
        }
      ],
      "source": [
        "clue.palpite('jogador1', 'professor margarida', 'biblioteca', 'cano')"
      ]
    },
    {
      "cell_type": "code",
      "execution_count": 54,
      "id": "fe01bc98",
      "metadata": {
        "colab": {
          "base_uri": "https://localhost:8080/"
        },
        "id": "fe01bc98",
        "outputId": "dfe0ead7-b852-40c1-bc02-50fb0a661011"
      },
      "outputs": [
        {
          "name": "stdout",
          "output_type": "stream",
          "text": [
            "Jogador(a) jogador4 tem alguma dessas cartas(s/n)? s\n"
          ]
        }
      ],
      "source": [
        "clue.palpite('jogador3', 'sala de jantar', 'cano', 'cozinheiro laranja')"
      ]
    },
    {
      "cell_type": "code",
      "execution_count": 55,
      "id": "62806105",
      "metadata": {
        "colab": {
          "base_uri": "https://localhost:8080/"
        },
        "id": "62806105",
        "outputId": "f5306d1f-90d4-43c8-a5b9-395aab4258e9"
      },
      "outputs": [
        {
          "name": "stdout",
          "output_type": "stream",
          "text": [
            "Jogador(a) jogador5 tem alguma dessas cartas(s/n)? n\n",
            "Jogador(a) jogador6 tem alguma dessas cartas(s/n)? s\n"
          ]
        }
      ],
      "source": [
        "clue.palpite('jogador4', 'reverendo sapo', 'faca', 'salao de trofeus')"
      ]
    },
    {
      "cell_type": "code",
      "execution_count": 56,
      "id": "c7b3b2bd",
      "metadata": {
        "colab": {
          "base_uri": "https://localhost:8080/"
        },
        "id": "c7b3b2bd",
        "outputId": "4f16ab66-2640-42e3-cf46-4d81e1118924"
      },
      "outputs": [
        {
          "name": "stdout",
          "output_type": "stream",
          "text": [
            "Jogador(a) jogador1 tem alguma dessas cartas(s/n)? n\n",
            "Jogador(a) jogador2 tem alguma dessas cartas(s/n)? n\n",
            "Jogador(a) jogador3 tem alguma dessas cartas(s/n)? s\n"
          ]
        }
      ],
      "source": [
        "clue.palpite('jogador6', 'salao de jantar', 'senhorita cherry', 'cano')"
      ]
    },
    {
      "cell_type": "code",
      "execution_count": 57,
      "id": "11429f20",
      "metadata": {
        "colab": {
          "base_uri": "https://localhost:8080/"
        },
        "id": "11429f20",
        "outputId": "c4c49efa-e268-4d16-a312-04338ea32d32"
      },
      "outputs": [
        {
          "output_type": "stream",
          "name": "stdout",
          "text": [
            "Lista de possibilidades de jogador1: [['revolver', 'cozinheiro laranja']]\n",
            "\n",
            "Lista de possibilidades de jogador3: [['professor margarida', 'biblioteca', 'cano'], ['salao de jantar', 'senhorita cherry', 'cano']]\n",
            "\n",
            "Lista de possibilidades de jogador4: [['cientista maluco', 'sala de estar'], ['cientista maluco', 'revolver'], ['cano', 'cozinheiro laranja']]\n",
            "\n",
            "Lista de possibilidades de jogador5: []\n",
            "\n",
            "Lista de possibilidades de jogador6: []\n",
            "\n"
          ]
        }
      ],
      "source": [
        "clue.printPossibilidades()"
      ]
    },
    {
      "cell_type": "code",
      "execution_count": 58,
      "id": "12b342aa",
      "metadata": {
        "colab": {
          "base_uri": "https://localhost:8080/"
        },
        "id": "12b342aa",
        "outputId": "013edf06-87c5-4fa6-dae4-ae1131dad0cf"
      },
      "outputs": [
        {
          "output_type": "stream",
          "name": "stdout",
          "text": [
            "Lista de certezas de jogador1: ['jardim interno', 'sala de musica']\n",
            "\n",
            "Lista de certezas de jogador2: ['escritorio', 'cozinha', 'faca']\n",
            "\n",
            "Lista de certezas de jogador3: []\n",
            "\n",
            "Lista de certezas de jogador4: []\n",
            "\n",
            "Lista de certezas de jogador5: ['chave inglesa', 'salao de festas']\n",
            "\n",
            "Lista de certezas de jogador6: ['veneno', 'salao de trofeus']\n",
            "\n"
          ]
        }
      ],
      "source": [
        "clue.printCertezas()"
      ]
    },
    {
      "cell_type": "code",
      "execution_count": 59,
      "id": "5f5f4f6f",
      "metadata": {
        "colab": {
          "base_uri": "https://localhost:8080/"
        },
        "id": "5f5f4f6f",
        "outputId": "29356bfa-d734-4c85-e5bd-ca6baea35801"
      },
      "outputs": [
        {
          "output_type": "stream",
          "name": "stdout",
          "text": [
            "Quem: reverendo sapo\n",
            "Onde: None\n",
            "Como: None\n"
          ]
        }
      ],
      "source": [
        "clue.printResultados()"
      ]
    },
    {
      "cell_type": "code",
      "execution_count": 60,
      "id": "d2114a45",
      "metadata": {
        "colab": {
          "base_uri": "https://localhost:8080/"
        },
        "id": "d2114a45",
        "outputId": "8349812a-6e71-49f9-df10-c4c8509e3389"
      },
      "outputs": [
        {
          "output_type": "stream",
          "name": "stdout",
          "text": [
            "Lista de possiveis jogadores que tenham as cartas:\n",
            "\n",
            "senhorita cherry - ['jogador3', 'jogador6']\n",
            "coronel banana - ['jogador1', 'jogador3', 'jogador4', 'jogador5', 'jogador6']\n",
            "professor margarida - ['jogador1', 'jogador3', 'jogador4', 'jogador5', 'jogador6']\n",
            "reverendo sapo - []\n",
            "cientista maluco - ['jogador1', 'jogador4', 'jogador5', 'jogador6']\n",
            "cozinheiro laranja - ['jogador1', 'jogador3', 'jogador5', 'jogador6']\n",
            "salao de jantar - ['jogador6']\n",
            "biblioteca - ['jogador1', 'jogador3', 'jogador4', 'jogador5', 'jogador6']\n",
            "sala de estar - ['jogador1', 'jogador3', 'jogador4', 'jogador5', 'jogador6']\n",
            "corda - ['jogador1', 'jogador3', 'jogador4', 'jogador5', 'jogador6']\n",
            "cano - ['jogador3', 'jogador4', 'jogador5', 'jogador6']\n",
            "revolver - ['jogador1', 'jogador4', 'jogador5', 'jogador6']\n"
          ]
        }
      ],
      "source": [
        "clue.printPossibCartasGeral()"
      ]
    },
    {
      "cell_type": "markdown",
      "id": "69003c24",
      "metadata": {
        "id": "69003c24"
      },
      "source": [
        "## Rodada 5"
      ]
    },
    {
      "cell_type": "code",
      "execution_count": 62,
      "id": "9fc10aea",
      "metadata": {
        "colab": {
          "base_uri": "https://localhost:8080/"
        },
        "id": "9fc10aea",
        "outputId": "754d20f8-cde6-407d-9006-06c176309c99"
      },
      "outputs": [
        {
          "name": "stdout",
          "output_type": "stream",
          "text": [
            "Jogador(a) jogador2 tem alguma dessas cartas(s/n)? n\n",
            "Jogador(a) jogador3 tem alguma dessas cartas(s/n)? n\n",
            "Jogador(a) jogador4 tem alguma dessas cartas(s/n)? n\n",
            "Jogador(a) jogador5 tem alguma dessas cartas(s/n)? n\n",
            "Jogador(a) jogador6 tem alguma dessas cartas(s/n)? s\n"
          ]
        }
      ],
      "source": [
        "clue.palpite('jogador1', 'salao de trofeus', 'revolver', 'reverendo sapo')"
      ]
    },
    {
      "cell_type": "code",
      "execution_count": 63,
      "id": "b1643f00",
      "metadata": {
        "colab": {
          "base_uri": "https://localhost:8080/"
        },
        "id": "b1643f00",
        "outputId": "1ab7e2ea-812a-4ddc-94a5-83c950af72a4"
      },
      "outputs": [
        {
          "name": "stdout",
          "output_type": "stream",
          "text": [
            "Jogador(a) jogador3 tem alguma dessas cartas(s/n)? s\n",
            "Qual carta? professor margarida\n"
          ]
        }
      ],
      "source": [
        "clue.palpite('jogador2', 'jardim interno', 'professor margarida', 'cano')"
      ]
    },
    {
      "cell_type": "code",
      "execution_count": 64,
      "id": "8117646a",
      "metadata": {
        "colab": {
          "base_uri": "https://localhost:8080/"
        },
        "id": "8117646a",
        "outputId": "98a485fa-6d5a-44b4-bb8e-e1be0fff03ed"
      },
      "outputs": [
        {
          "name": "stdout",
          "output_type": "stream",
          "text": [
            "Jogador(a) jogador4 tem alguma dessas cartas(s/n)? n\n",
            "Jogador(a) jogador5 tem alguma dessas cartas(s/n)? s\n"
          ]
        }
      ],
      "source": [
        "clue.palpite('jogador3', 'revolver', 'coronel banana', 'salao de trofeus')"
      ]
    },
    {
      "cell_type": "code",
      "execution_count": 65,
      "id": "a2cdead9",
      "metadata": {
        "colab": {
          "base_uri": "https://localhost:8080/"
        },
        "id": "a2cdead9",
        "outputId": "2bf59e91-a39d-4ab0-f3ad-e6c9ca027648"
      },
      "outputs": [
        {
          "name": "stdout",
          "output_type": "stream",
          "text": [
            "Jogador(a) jogador5 tem alguma dessas cartas(s/n)? n\n",
            "Jogador(a) jogador6 tem alguma dessas cartas(s/n)? n\n",
            "Jogador(a) jogador1 tem alguma dessas cartas(s/n)? n\n",
            "Jogador(a) jogador2 tem alguma dessas cartas(s/n)? s\n"
          ]
        }
      ],
      "source": [
        "clue.palpite('jogador4', 'escritorio', 'revolver', 'reverendo sapo')"
      ]
    },
    {
      "cell_type": "code",
      "execution_count": 66,
      "id": "d39c63e2",
      "metadata": {
        "colab": {
          "base_uri": "https://localhost:8080/"
        },
        "id": "d39c63e2",
        "outputId": "c108f765-79d4-4153-e5d3-88e12d4fd19c"
      },
      "outputs": [
        {
          "name": "stdout",
          "output_type": "stream",
          "text": [
            "Jogador(a) jogador1 tem alguma dessas cartas(s/n)? n\n",
            "Jogador(a) jogador2 tem alguma dessas cartas(s/n)? n\n",
            "Jogador(a) jogador3 tem alguma dessas cartas(s/n)? n\n",
            "Jogador(a) jogador4 tem alguma dessas cartas(s/n)? n\n",
            "Jogador(a) jogador5 tem alguma dessas cartas(s/n)? n\n"
          ]
        }
      ],
      "source": [
        "clue.palpite('jogador6', 'salao de jantar', 'mordomo alfred', 'revolver')"
      ]
    },
    {
      "cell_type": "code",
      "execution_count": 67,
      "id": "a134e0a3",
      "metadata": {
        "colab": {
          "base_uri": "https://localhost:8080/"
        },
        "id": "a134e0a3",
        "outputId": "e42cef25-0705-436f-a984-03f8391220b2"
      },
      "outputs": [
        {
          "output_type": "stream",
          "name": "stdout",
          "text": [
            "Lista de certezas de jogador1: ['jardim interno', 'sala de musica', 'cozinheiro laranja']\n",
            "\n",
            "Lista de certezas de jogador2: ['escritorio', 'cozinha', 'faca']\n",
            "\n",
            "Lista de certezas de jogador3: ['professor margarida']\n",
            "\n",
            "Lista de certezas de jogador4: ['cientista maluco', 'cano']\n",
            "\n",
            "Lista de certezas de jogador5: ['chave inglesa', 'salao de festas', 'coronel banana']\n",
            "\n",
            "Lista de certezas de jogador6: ['veneno', 'salao de trofeus']\n",
            "\n"
          ]
        }
      ],
      "source": [
        "clue.printCertezas()"
      ]
    },
    {
      "cell_type": "code",
      "execution_count": 68,
      "id": "de358dbd",
      "metadata": {
        "colab": {
          "base_uri": "https://localhost:8080/"
        },
        "id": "de358dbd",
        "outputId": "c42813ec-ed72-41c8-ab89-62de87b8502a"
      },
      "outputs": [
        {
          "output_type": "stream",
          "name": "stdout",
          "text": [
            "Lista de possibilidades de jogador1: []\n",
            "\n",
            "Lista de possibilidades de jogador3: [['salao de jantar', 'senhorita cherry']]\n",
            "\n",
            "Lista de possibilidades de jogador4: []\n",
            "\n",
            "Lista de possibilidades de jogador5: []\n",
            "\n",
            "Lista de possibilidades de jogador6: []\n",
            "\n"
          ]
        }
      ],
      "source": [
        "clue.printPossibilidades()"
      ]
    },
    {
      "cell_type": "code",
      "execution_count": 70,
      "id": "1677c454",
      "metadata": {
        "colab": {
          "base_uri": "https://localhost:8080/"
        },
        "id": "1677c454",
        "outputId": "fc5a32eb-c644-421e-aacb-8028409afaa8"
      },
      "outputs": [
        {
          "output_type": "stream",
          "name": "stdout",
          "text": [
            "Quem: reverendo sapo\n",
            "Onde: None\n",
            "Como: revolver\n"
          ]
        }
      ],
      "source": [
        "clue.printResultados()"
      ]
    },
    {
      "cell_type": "code",
      "execution_count": 69,
      "id": "1b24bfcc",
      "metadata": {
        "colab": {
          "base_uri": "https://localhost:8080/"
        },
        "id": "1b24bfcc",
        "outputId": "d4384be4-df02-404e-d7de-d9fdcf8e01ac"
      },
      "outputs": [
        {
          "output_type": "stream",
          "name": "stdout",
          "text": [
            "Lista de possiveis jogadores que tenham as cartas:\n",
            "\n",
            "senhorita cherry - ['jogador3', 'jogador6']\n",
            "reverendo sapo - []\n",
            "salao de jantar - ['jogador6']\n",
            "biblioteca - ['jogador3', 'jogador4', 'jogador6']\n",
            "sala de estar - ['jogador3', 'jogador4', 'jogador6']\n",
            "corda - ['jogador3', 'jogador4', 'jogador6']\n",
            "revolver - []\n"
          ]
        }
      ],
      "source": [
        "clue.printPossibCartasGeral()"
      ]
    },
    {
      "cell_type": "code",
      "source": [
        "clue.printPossibCartasFaltantes()"
      ],
      "metadata": {
        "colab": {
          "base_uri": "https://localhost:8080/"
        },
        "id": "cmVcv7wx1VXm",
        "outputId": "60ac2f3b-fa3f-447e-dbe5-f6e2e5991325"
      },
      "id": "cmVcv7wx1VXm",
      "execution_count": 71,
      "outputs": [
        {
          "output_type": "stream",
          "name": "stdout",
          "text": [
            "Lista de possiveis jogadores que tenham as cartas:\n",
            "\n",
            "salao de jantar - ['jogador6']\n",
            "biblioteca - ['jogador3', 'jogador4', 'jogador6']\n",
            "sala de estar - ['jogador3', 'jogador4', 'jogador6']\n"
          ]
        }
      ]
    },
    {
      "cell_type": "markdown",
      "source": [
        "## Rodada 6"
      ],
      "metadata": {
        "id": "h7d36PxKsICo"
      },
      "id": "h7d36PxKsICo"
    },
    {
      "cell_type": "code",
      "source": [
        "clue.palpite('jogador1', 'escritorio', 'coronel banana', 'faca')"
      ],
      "metadata": {
        "colab": {
          "base_uri": "https://localhost:8080/"
        },
        "id": "camVR_HhsLHP",
        "outputId": "722078d2-c082-438a-b431-c39fb5d4e820"
      },
      "id": "camVR_HhsLHP",
      "execution_count": 72,
      "outputs": [
        {
          "name": "stdout",
          "output_type": "stream",
          "text": [
            "Jogador(a) jogador2 tem alguma dessas cartas(s/n)? s\n"
          ]
        }
      ]
    },
    {
      "cell_type": "code",
      "source": [
        "clue.palpite('jogador2', 'jardim interno', 'revolver', 'senhorita cherry')"
      ],
      "metadata": {
        "colab": {
          "base_uri": "https://localhost:8080/"
        },
        "id": "Dx9QELyrsTSk",
        "outputId": "a5ea01aa-84fb-4419-f781-25266da271cc"
      },
      "id": "Dx9QELyrsTSk",
      "execution_count": 73,
      "outputs": [
        {
          "name": "stdout",
          "output_type": "stream",
          "text": [
            "Jogador(a) jogador3 tem alguma dessas cartas(s/n)? s\n",
            "Qual carta? senhorita cherry\n"
          ]
        }
      ]
    },
    {
      "cell_type": "code",
      "source": [
        "clue.printCertezas()"
      ],
      "metadata": {
        "colab": {
          "base_uri": "https://localhost:8080/"
        },
        "id": "l7ThP8s7sYcL",
        "outputId": "6f179dda-e070-4e58-b633-97d3663a4032"
      },
      "id": "l7ThP8s7sYcL",
      "execution_count": 74,
      "outputs": [
        {
          "output_type": "stream",
          "name": "stdout",
          "text": [
            "Lista de certezas de jogador1: ['jardim interno', 'sala de musica', 'cozinheiro laranja']\n",
            "\n",
            "Lista de certezas de jogador2: ['escritorio', 'cozinha', 'faca']\n",
            "\n",
            "Lista de certezas de jogador3: ['professor margarida', 'senhorita cherry']\n",
            "\n",
            "Lista de certezas de jogador4: ['cientista maluco', 'cano']\n",
            "\n",
            "Lista de certezas de jogador5: ['chave inglesa', 'salao de festas', 'coronel banana']\n",
            "\n",
            "Lista de certezas de jogador6: ['veneno', 'salao de trofeus']\n",
            "\n"
          ]
        }
      ]
    },
    {
      "cell_type": "code",
      "execution_count": 75,
      "id": "91e5c25b",
      "metadata": {
        "colab": {
          "base_uri": "https://localhost:8080/"
        },
        "id": "91e5c25b",
        "outputId": "718bf3ff-c6a2-4d70-e1c3-e7fa4c6a45e8"
      },
      "outputs": [
        {
          "output_type": "stream",
          "name": "stdout",
          "text": [
            "Quem: reverendo sapo\n",
            "Onde: None\n",
            "Como: revolver\n"
          ]
        }
      ],
      "source": [
        "clue.printResultados()"
      ]
    },
    {
      "cell_type": "code",
      "source": [
        "clue.printPossibCartasFaltantes()"
      ],
      "metadata": {
        "colab": {
          "base_uri": "https://localhost:8080/"
        },
        "id": "nnStThsbsf7a",
        "outputId": "eb84f599-ca94-4fcb-ca6d-d0985a2e6ffd"
      },
      "id": "nnStThsbsf7a",
      "execution_count": 76,
      "outputs": [
        {
          "output_type": "stream",
          "name": "stdout",
          "text": [
            "Lista de possiveis jogadores que tenham as cartas:\n",
            "\n",
            "salao de jantar - ['jogador6']\n",
            "biblioteca - ['jogador3', 'jogador4', 'jogador6']\n",
            "sala de estar - ['jogador3', 'jogador4', 'jogador6']\n"
          ]
        }
      ]
    },
    {
      "cell_type": "code",
      "source": [
        "clue.printPossibCartasGeral()"
      ],
      "metadata": {
        "colab": {
          "base_uri": "https://localhost:8080/"
        },
        "id": "tnEJJOj5jfEC",
        "outputId": "c616dd6d-f145-46f8-dcfb-fcd3e24067c2"
      },
      "id": "tnEJJOj5jfEC",
      "execution_count": 77,
      "outputs": [
        {
          "output_type": "stream",
          "name": "stdout",
          "text": [
            "Lista de possiveis jogadores que tenham as cartas:\n",
            "\n",
            "reverendo sapo - []\n",
            "salao de jantar - ['jogador6']\n",
            "biblioteca - ['jogador3', 'jogador4', 'jogador6']\n",
            "sala de estar - ['jogador3', 'jogador4', 'jogador6']\n",
            "corda - ['jogador3', 'jogador4', 'jogador6']\n",
            "revolver - []\n"
          ]
        }
      ]
    },
    {
      "cell_type": "markdown",
      "source": [
        "O jogador3 fez uma acusação para as cartas {salao de jantar, revolver, reverendo sapo} e acertou, ganhando o jogo."
      ],
      "metadata": {
        "id": "f4rU5HdJskxZ"
      },
      "id": "f4rU5HdJskxZ"
    },
    {
      "cell_type": "code",
      "execution_count": null,
      "id": "a890a0c9",
      "metadata": {
        "id": "a890a0c9"
      },
      "outputs": [],
      "source": []
    }
  ],
  "metadata": {
    "kernelspec": {
      "display_name": "Python 3 (ipykernel)",
      "language": "python",
      "name": "python3"
    },
    "language_info": {
      "codemirror_mode": {
        "name": "ipython",
        "version": 3
      },
      "file_extension": ".py",
      "mimetype": "text/x-python",
      "name": "python",
      "nbconvert_exporter": "python",
      "pygments_lexer": "ipython3",
      "version": "3.11.3"
    },
    "colab": {
      "provenance": []
    }
  },
  "nbformat": 4,
  "nbformat_minor": 5
}